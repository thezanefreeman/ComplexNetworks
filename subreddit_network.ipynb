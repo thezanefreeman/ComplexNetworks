{
 "cells": [
  {
   "cell_type": "code",
   "execution_count": 1,
   "id": "aa1db1cd-ac71-4edc-8398-f3643a7a3ba2",
   "metadata": {},
   "outputs": [],
   "source": [
    "import datetime as dt\n",
    "import pandas as pd\n",
    "\n",
    "import csv\n",
    "import json\n",
    "import psaw\n",
    "import time"
   ]
  },
  {
   "cell_type": "code",
   "execution_count": 11,
   "id": "5768e6ca-1d23-4486-b096-b7e7d0fe7a71",
   "metadata": {},
   "outputs": [],
   "source": [
    "def epoch(year, month, day, **kwargs):\n",
    "    date_time = dt.datetime(year, month, day, **kwargs)\n",
    "    return int(date_time.timestamp())\n",
    "\n",
    "\n",
    "def dataframe(psaw_result_generator):\n",
    "    return pd.DataFrame([item.d_ for item in psaw_result_generator])\n",
    "\n",
    "\n",
    "# Wrapper subclass to return results in Pandas DataFrames.\n",
    "class DataframePushshiftAPI(psaw.PushshiftAPI):\n",
    "    def __init__(self, *args, **kwargs):\n",
    "        super().__init__(*args, **kwargs)\n",
    "        \n",
    "    def search_comments(self, **kwargs):\n",
    "        result_gen = super().search_comments(**kwargs)\n",
    "        return dataframe(result_gen)\n",
    "    \n",
    "    def search_submissions(self, **kwargs):\n",
    "        result_gen = super().search_submissions(**kwargs)\n",
    "        return dataframe(result_gen)\n",
    "    \n",
    "    def search_subreddits(self, **kwargs):\n",
    "        result_gen = self._search_func(kind='subreddit', **kwargs)\n",
    "        return dataframe(result_gen)\n",
    "    \n",
    "    def redditor_subreddit_activity(self, author, **kwargs):\n",
    "        result_gen = super().redditor_subreddit_activity(author, **kwargs)\n",
    "        return dataframe(result_gen)"
   ]
  },
  {
   "cell_type": "code",
   "execution_count": 12,
   "id": "42c5cf8f-4d6d-441e-8d9b-032125747475",
   "metadata": {},
   "outputs": [],
   "source": [
    "pushshift = DataframePushshiftAPI()"
   ]
  },
  {
   "cell_type": "code",
   "execution_count": null,
   "id": "ca7182cb-7926-4b0e-a9e6-bb162e5def4c",
   "metadata": {},
   "outputs": [],
   "source": [
    "def get_subs():\n",
    "    pushshift.search_subreddits(after=epoch(2017, 1, 1),\n",
    "                            before=epoch(2018, 1, 1),\n",
    "                            limit=10)\n",
    "\n",
    "subs_df = get_subs()"
   ]
  },
  {
   "cell_type": "code",
   "execution_count": null,
   "id": "630af004-f9ca-44bd-873f-039a8d82a02c",
   "metadata": {},
   "outputs": [],
   "source": [
    "subs_df"
   ]
  }
 ],
 "metadata": {
  "kernelspec": {
   "display_name": "Python 3 (ipykernel)",
   "language": "python",
   "name": "python3"
  },
  "language_info": {
   "codemirror_mode": {
    "name": "ipython",
    "version": 3
   },
   "file_extension": ".py",
   "mimetype": "text/x-python",
   "name": "python",
   "nbconvert_exporter": "python",
   "pygments_lexer": "ipython3",
   "version": "3.9.7"
  }
 },
 "nbformat": 4,
 "nbformat_minor": 5
}
