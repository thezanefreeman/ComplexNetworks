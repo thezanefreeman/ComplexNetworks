{
 "cells": [
  {
   "cell_type": "code",
   "execution_count": 75,
   "metadata": {},
   "outputs": [],
   "source": [
    "import networkx as nx \n",
    "import csv\n",
    "import pandas as pd\n",
    "import matplotlib.pyplot as plt\n",
    "import numpy as np\n",
    "import sys\n",
    "import operator\n",
    "import time\n",
    "import random\n",
    "from tqdm import tqdm\n",
    "from sklearn.metrics import mean_squared_error, precision_score, recall_score, roc_auc_score\n",
    "# DELTA_RECOVER = 7\n",
    "# DELTA_INFECT = 5\n",
    "# p_transmit_virus = .015\n",
    "# SEED = .04"
   ]
  },
  {
   "cell_type": "code",
   "execution_count": 6,
   "metadata": {},
   "outputs": [],
   "source": [
    "users = pd.read_csv('users_09_ground.csv')"
   ]
  },
  {
   "cell_type": "code",
   "execution_count": 8,
   "metadata": {},
   "outputs": [
    {
     "data": {
      "text/html": [
       "<div>\n",
       "<style scoped>\n",
       "    .dataframe tbody tr th:only-of-type {\n",
       "        vertical-align: middle;\n",
       "    }\n",
       "\n",
       "    .dataframe tbody tr th {\n",
       "        vertical-align: top;\n",
       "    }\n",
       "\n",
       "    .dataframe thead th {\n",
       "        text-align: right;\n",
       "    }\n",
       "</style>\n",
       "<table border=\"1\" class=\"dataframe\">\n",
       "  <thead>\n",
       "    <tr style=\"text-align: right;\">\n",
       "      <th></th>\n",
       "      <th>subreddits</th>\n",
       "      <th>political_label</th>\n",
       "      <th>lib_inf_day</th>\n",
       "      <th>con_inf_day</th>\n",
       "    </tr>\n",
       "    <tr>\n",
       "      <th>author</th>\n",
       "      <th></th>\n",
       "      <th></th>\n",
       "      <th></th>\n",
       "      <th></th>\n",
       "    </tr>\n",
       "  </thead>\n",
       "  <tbody>\n",
       "    <tr>\n",
       "      <th>---</th>\n",
       "      <td>{'Android', 'AskReddit', 'answers', 'offmyches...</td>\n",
       "      <td>unaffiliated</td>\n",
       "      <td>2</td>\n",
       "      <td>2</td>\n",
       "    </tr>\n",
       "    <tr>\n",
       "      <th>---REDDIT---</th>\n",
       "      <td>{'videos', 'politics', 'pics'}</td>\n",
       "      <td>unaffiliated</td>\n",
       "      <td>21</td>\n",
       "      <td>21</td>\n",
       "    </tr>\n",
       "    <tr>\n",
       "      <th>---ooo---</th>\n",
       "      <td>{'Nootropics', 'lifehacks', 'funny'}</td>\n",
       "      <td>unaffiliated</td>\n",
       "      <td>31</td>\n",
       "      <td>31</td>\n",
       "    </tr>\n",
       "    <tr>\n",
       "      <th>---sniff---</th>\n",
       "      <td>{'AskReddit', 'MLS', 'vba', 'Health', 'soccer'...</td>\n",
       "      <td>unaffiliated</td>\n",
       "      <td>31</td>\n",
       "      <td>31</td>\n",
       "    </tr>\n",
       "    <tr>\n",
       "      <th>--Audrey2</th>\n",
       "      <td>{'funny'}</td>\n",
       "      <td>unaffiliated</td>\n",
       "      <td>31</td>\n",
       "      <td>31</td>\n",
       "    </tr>\n",
       "    <tr>\n",
       "      <th>...</th>\n",
       "      <td>...</td>\n",
       "      <td>...</td>\n",
       "      <td>...</td>\n",
       "      <td>...</td>\n",
       "    </tr>\n",
       "    <tr>\n",
       "      <th>zzziltoid</th>\n",
       "      <td>{'AdviceAnimals', 'AskReddit'}</td>\n",
       "      <td>unaffiliated</td>\n",
       "      <td>13</td>\n",
       "      <td>13</td>\n",
       "    </tr>\n",
       "    <tr>\n",
       "      <th>zzzimcal</th>\n",
       "      <td>{'Gore', 'exmormon', 'AskReddit', 'pics'}</td>\n",
       "      <td>unaffiliated</td>\n",
       "      <td>20</td>\n",
       "      <td>20</td>\n",
       "    </tr>\n",
       "    <tr>\n",
       "      <th>zzzonked33</th>\n",
       "      <td>{'treemusic', 'AskReddit', 'funny', 'photoshop...</td>\n",
       "      <td>unaffiliated</td>\n",
       "      <td>26</td>\n",
       "      <td>26</td>\n",
       "    </tr>\n",
       "    <tr>\n",
       "      <th>zzzuluz</th>\n",
       "      <td>{'AskReddit', 'pics', 'funny', 'aww', 'Calgary'}</td>\n",
       "      <td>unaffiliated</td>\n",
       "      <td>5</td>\n",
       "      <td>5</td>\n",
       "    </tr>\n",
       "    <tr>\n",
       "      <th>zzzzop</th>\n",
       "      <td>{'AdviceAnimals', 'civ', 'anime', 'GlobalOffen...</td>\n",
       "      <td>unaffiliated</td>\n",
       "      <td>14</td>\n",
       "      <td>14</td>\n",
       "    </tr>\n",
       "  </tbody>\n",
       "</table>\n",
       "<p>397213 rows × 4 columns</p>\n",
       "</div>"
      ],
      "text/plain": [
       "                                                     subreddits  \\\n",
       "author                                                            \n",
       "---           {'Android', 'AskReddit', 'answers', 'offmyches...   \n",
       "---REDDIT---                     {'videos', 'politics', 'pics'}   \n",
       "---ooo---                  {'Nootropics', 'lifehacks', 'funny'}   \n",
       "---sniff---   {'AskReddit', 'MLS', 'vba', 'Health', 'soccer'...   \n",
       "--Audrey2                                             {'funny'}   \n",
       "...                                                         ...   \n",
       "zzziltoid                        {'AdviceAnimals', 'AskReddit'}   \n",
       "zzzimcal              {'Gore', 'exmormon', 'AskReddit', 'pics'}   \n",
       "zzzonked33    {'treemusic', 'AskReddit', 'funny', 'photoshop...   \n",
       "zzzuluz        {'AskReddit', 'pics', 'funny', 'aww', 'Calgary'}   \n",
       "zzzzop        {'AdviceAnimals', 'civ', 'anime', 'GlobalOffen...   \n",
       "\n",
       "             political_label  lib_inf_day  con_inf_day  \n",
       "author                                                  \n",
       "---             unaffiliated            2            2  \n",
       "---REDDIT---    unaffiliated           21           21  \n",
       "---ooo---       unaffiliated           31           31  \n",
       "---sniff---     unaffiliated           31           31  \n",
       "--Audrey2       unaffiliated           31           31  \n",
       "...                      ...          ...          ...  \n",
       "zzziltoid       unaffiliated           13           13  \n",
       "zzzimcal        unaffiliated           20           20  \n",
       "zzzonked33      unaffiliated           26           26  \n",
       "zzzuluz         unaffiliated            5            5  \n",
       "zzzzop          unaffiliated           14           14  \n",
       "\n",
       "[397213 rows x 4 columns]"
      ]
     },
     "execution_count": 8,
     "metadata": {},
     "output_type": "execute_result"
    }
   ],
   "source": [
    "users = users.set_index('author')\n",
    "users"
   ]
  },
  {
   "cell_type": "code",
   "execution_count": 19,
   "metadata": {},
   "outputs": [],
   "source": [
    "#load networks\n",
    "def build_networks(days):\n",
    "    networks = list()\n",
    "    for i in tqdm(range(days)):\n",
    "        G = nx.read_gexf(f\"./data/RC_2012-09_daily_graphs/{i+1}.gexf\")\n",
    "        networks.append(G)\n",
    "    return networks"
   ]
  },
  {
   "cell_type": "code",
   "execution_count": 9,
   "metadata": {},
   "outputs": [],
   "source": [
    "#This makes all 'conservative' and 'liberal' users 'infected' at the beginning.\n",
    "\n",
    "def init_population():\n",
    "    # infected = {\n",
    "    #     'Liberal': set(),\n",
    "    #     'Conservative': set(),\n",
    "    # }\n",
    "    for label in ['Conservative', 'Liberal']:\n",
    "        for user in users.index:\n",
    "            matches = users.at[user, 'political_label'] == label\n",
    "            users.at[user, f'{label}_infected'] = matches\n",
    "            users.at[user, f'{label}_day_infected'] = 1 if matches else 31\n",
    "#             if matches:\n",
    "#                 infected[label].add(person)\n",
    "    \n",
    "#     return infected"
   ]
  },
  {
   "cell_type": "code",
   "execution_count": null,
   "metadata": {},
   "outputs": [
    {
     "data": {
      "text/html": [
       "<div>\n",
       "<style scoped>\n",
       "    .dataframe tbody tr th:only-of-type {\n",
       "        vertical-align: middle;\n",
       "    }\n",
       "\n",
       "    .dataframe tbody tr th {\n",
       "        vertical-align: top;\n",
       "    }\n",
       "\n",
       "    .dataframe thead th {\n",
       "        text-align: right;\n",
       "    }\n",
       "</style>\n",
       "<table border=\"1\" class=\"dataframe\">\n",
       "  <thead>\n",
       "    <tr style=\"text-align: right;\">\n",
       "      <th></th>\n",
       "      <th>subreddits</th>\n",
       "      <th>political_label</th>\n",
       "      <th>lib_inf_day</th>\n",
       "      <th>con_inf_day</th>\n",
       "      <th>Conservative_infected</th>\n",
       "      <th>Conservative_day_infected</th>\n",
       "      <th>Liberal_infected</th>\n",
       "      <th>Liberal_day_infected</th>\n",
       "    </tr>\n",
       "    <tr>\n",
       "      <th>author</th>\n",
       "      <th></th>\n",
       "      <th></th>\n",
       "      <th></th>\n",
       "      <th></th>\n",
       "      <th></th>\n",
       "      <th></th>\n",
       "      <th></th>\n",
       "      <th></th>\n",
       "    </tr>\n",
       "  </thead>\n",
       "  <tbody>\n",
       "    <tr>\n",
       "      <th>---</th>\n",
       "      <td>{'Android', 'AskReddit', 'answers', 'offmyches...</td>\n",
       "      <td>unaffiliated</td>\n",
       "      <td>2</td>\n",
       "      <td>2</td>\n",
       "      <td>False</td>\n",
       "      <td>31.0</td>\n",
       "      <td>False</td>\n",
       "      <td>31.0</td>\n",
       "    </tr>\n",
       "    <tr>\n",
       "      <th>---REDDIT---</th>\n",
       "      <td>{'videos', 'politics', 'pics'}</td>\n",
       "      <td>unaffiliated</td>\n",
       "      <td>21</td>\n",
       "      <td>21</td>\n",
       "      <td>False</td>\n",
       "      <td>31.0</td>\n",
       "      <td>False</td>\n",
       "      <td>31.0</td>\n",
       "    </tr>\n",
       "    <tr>\n",
       "      <th>---ooo---</th>\n",
       "      <td>{'Nootropics', 'lifehacks', 'funny'}</td>\n",
       "      <td>unaffiliated</td>\n",
       "      <td>31</td>\n",
       "      <td>31</td>\n",
       "      <td>False</td>\n",
       "      <td>31.0</td>\n",
       "      <td>False</td>\n",
       "      <td>31.0</td>\n",
       "    </tr>\n",
       "    <tr>\n",
       "      <th>---sniff---</th>\n",
       "      <td>{'AskReddit', 'MLS', 'vba', 'Health', 'soccer'...</td>\n",
       "      <td>unaffiliated</td>\n",
       "      <td>31</td>\n",
       "      <td>31</td>\n",
       "      <td>False</td>\n",
       "      <td>31.0</td>\n",
       "      <td>False</td>\n",
       "      <td>31.0</td>\n",
       "    </tr>\n",
       "    <tr>\n",
       "      <th>--Audrey2</th>\n",
       "      <td>{'funny'}</td>\n",
       "      <td>unaffiliated</td>\n",
       "      <td>31</td>\n",
       "      <td>31</td>\n",
       "      <td>False</td>\n",
       "      <td>31.0</td>\n",
       "      <td>False</td>\n",
       "      <td>31.0</td>\n",
       "    </tr>\n",
       "    <tr>\n",
       "      <th>...</th>\n",
       "      <td>...</td>\n",
       "      <td>...</td>\n",
       "      <td>...</td>\n",
       "      <td>...</td>\n",
       "      <td>...</td>\n",
       "      <td>...</td>\n",
       "      <td>...</td>\n",
       "      <td>...</td>\n",
       "    </tr>\n",
       "    <tr>\n",
       "      <th>zzziltoid</th>\n",
       "      <td>{'AdviceAnimals', 'AskReddit'}</td>\n",
       "      <td>unaffiliated</td>\n",
       "      <td>13</td>\n",
       "      <td>13</td>\n",
       "      <td>False</td>\n",
       "      <td>31.0</td>\n",
       "      <td>False</td>\n",
       "      <td>31.0</td>\n",
       "    </tr>\n",
       "    <tr>\n",
       "      <th>zzzimcal</th>\n",
       "      <td>{'Gore', 'exmormon', 'AskReddit', 'pics'}</td>\n",
       "      <td>unaffiliated</td>\n",
       "      <td>20</td>\n",
       "      <td>20</td>\n",
       "      <td>False</td>\n",
       "      <td>31.0</td>\n",
       "      <td>False</td>\n",
       "      <td>31.0</td>\n",
       "    </tr>\n",
       "    <tr>\n",
       "      <th>zzzonked33</th>\n",
       "      <td>{'treemusic', 'AskReddit', 'funny', 'photoshop...</td>\n",
       "      <td>unaffiliated</td>\n",
       "      <td>26</td>\n",
       "      <td>26</td>\n",
       "      <td>False</td>\n",
       "      <td>31.0</td>\n",
       "      <td>False</td>\n",
       "      <td>31.0</td>\n",
       "    </tr>\n",
       "    <tr>\n",
       "      <th>zzzuluz</th>\n",
       "      <td>{'AskReddit', 'pics', 'funny', 'aww', 'Calgary'}</td>\n",
       "      <td>unaffiliated</td>\n",
       "      <td>5</td>\n",
       "      <td>5</td>\n",
       "      <td>False</td>\n",
       "      <td>31.0</td>\n",
       "      <td>False</td>\n",
       "      <td>31.0</td>\n",
       "    </tr>\n",
       "    <tr>\n",
       "      <th>zzzzop</th>\n",
       "      <td>{'AdviceAnimals', 'civ', 'anime', 'GlobalOffen...</td>\n",
       "      <td>unaffiliated</td>\n",
       "      <td>14</td>\n",
       "      <td>14</td>\n",
       "      <td>False</td>\n",
       "      <td>31.0</td>\n",
       "      <td>False</td>\n",
       "      <td>31.0</td>\n",
       "    </tr>\n",
       "  </tbody>\n",
       "</table>\n",
       "<p>397213 rows × 8 columns</p>\n",
       "</div>"
      ],
      "text/plain": [
       "                                                     subreddits  \\\n",
       "author                                                            \n",
       "---           {'Android', 'AskReddit', 'answers', 'offmyches...   \n",
       "---REDDIT---                     {'videos', 'politics', 'pics'}   \n",
       "---ooo---                  {'Nootropics', 'lifehacks', 'funny'}   \n",
       "---sniff---   {'AskReddit', 'MLS', 'vba', 'Health', 'soccer'...   \n",
       "--Audrey2                                             {'funny'}   \n",
       "...                                                         ...   \n",
       "zzziltoid                        {'AdviceAnimals', 'AskReddit'}   \n",
       "zzzimcal              {'Gore', 'exmormon', 'AskReddit', 'pics'}   \n",
       "zzzonked33    {'treemusic', 'AskReddit', 'funny', 'photoshop...   \n",
       "zzzuluz        {'AskReddit', 'pics', 'funny', 'aww', 'Calgary'}   \n",
       "zzzzop        {'AdviceAnimals', 'civ', 'anime', 'GlobalOffen...   \n",
       "\n",
       "             political_label  lib_inf_day  con_inf_day Conservative_infected  \\\n",
       "author                                                                         \n",
       "---             unaffiliated            2            2                 False   \n",
       "---REDDIT---    unaffiliated           21           21                 False   \n",
       "---ooo---       unaffiliated           31           31                 False   \n",
       "---sniff---     unaffiliated           31           31                 False   \n",
       "--Audrey2       unaffiliated           31           31                 False   \n",
       "...                      ...          ...          ...                   ...   \n",
       "zzziltoid       unaffiliated           13           13                 False   \n",
       "zzzimcal        unaffiliated           20           20                 False   \n",
       "zzzonked33      unaffiliated           26           26                 False   \n",
       "zzzuluz         unaffiliated            5            5                 False   \n",
       "zzzzop          unaffiliated           14           14                 False   \n",
       "\n",
       "              Conservative_day_infected Liberal_infected  Liberal_day_infected  \n",
       "author                                                                          \n",
       "---                                31.0            False                  31.0  \n",
       "---REDDIT---                       31.0            False                  31.0  \n",
       "---ooo---                          31.0            False                  31.0  \n",
       "---sniff---                        31.0            False                  31.0  \n",
       "--Audrey2                          31.0            False                  31.0  \n",
       "...                                 ...              ...                   ...  \n",
       "zzziltoid                          31.0            False                  31.0  \n",
       "zzzimcal                           31.0            False                  31.0  \n",
       "zzzonked33                         31.0            False                  31.0  \n",
       "zzzuluz                            31.0            False                  31.0  \n",
       "zzzzop                             31.0            False                  31.0  \n",
       "\n",
       "[397213 rows x 8 columns]"
      ]
     },
     "execution_count": 10,
     "metadata": {},
     "output_type": "execute_result"
    }
   ],
   "source": [
    "init_population()\n",
    "users"
   ]
  },
  {
   "cell_type": "code",
   "execution_count": 127,
   "metadata": {},
   "outputs": [],
   "source": [
    "#Susceptible-Infected simulation \n",
    "def run_experiment(days, networks, chance_param):\n",
    "    for i in tqdm(range(days)):\n",
    "        day = i + 1\n",
    "        for label in ['Conservative', 'Liberal']:\n",
    "            infected = set(users[users[f'{label}_infected']].index)\n",
    "            G = networks[i]\n",
    "            for user in infected:\n",
    "                if user in G.nodes:\n",
    "                    for _, neighbor, data in G.out_edges(user, data=True):\n",
    "                        chance = chance_param * data['weight'] * data[f'avg_{label}_pol']\n",
    "                        if random.random() <= chance:\n",
    "                            users.at[neighbor, f'{label}_infected'] = True\n",
    "                            users.at[neighbor, f'{label}_day_infected'] = day"
   ]
  },
  {
   "cell_type": "code",
   "execution_count": 130,
   "metadata": {},
   "outputs": [
    {
     "data": {
      "text/plain": [
       "<networkx.classes.digraph.DiGraph at 0x1f4e1f38ca0>"
      ]
     },
     "execution_count": 130,
     "metadata": {},
     "output_type": "execute_result"
    }
   ],
   "source": [
    "# networks = build_networks(30)"
   ]
  },
  {
   "cell_type": "code",
   "execution_count": 140,
   "metadata": {},
   "outputs": [
    {
     "name": "stderr",
     "output_type": "stream",
     "text": [
      "100%|█████████████████████████████████████████████████████████████| 30/30 [00:44<00:00,  1.49s/it]\n"
     ]
    }
   ],
   "source": [
    "init_population()\n",
    "run_experiment(30, networks, 5000)"
   ]
  },
  {
   "cell_type": "code",
   "execution_count": 141,
   "metadata": {},
   "outputs": [
    {
     "data": {
      "image/png": "[encoded data removed]",
      "text/plain": [
       "<Figure size 432x288 with 1 Axes>"
      ]
     },
     "metadata": {
      "needs_background": "light"
     },
     "output_type": "display_data"
    }
   ],
   "source": [
    "plot_SI(users)"
   ]
  },
  {
   "cell_type": "code",
   "execution_count": 142,
   "metadata": {
    "tags": []
   },
   "outputs": [
    {
     "data": {
      "image/png": "[encoded data removed]",
      "text/plain": [
       "<Figure size 432x288 with 1 Axes>"
      ]
     },
     "metadata": {
      "needs_background": "light"
     },
     "output_type": "display_data"
    }
   ],
   "source": [
    "plot_SI(users, lib=False)"
   ]
  },
  {
   "cell_type": "code",
   "execution_count": 91,
   "metadata": {},
   "outputs": [
    {
     "name": "stderr",
     "output_type": "stream",
     "text": [
      "100%|█████████████████████████████████████████████████████████████| 30/30 [00:00<00:00, 31.57it/s]\n",
      "100%|█████████████████████████████████████████████████████████████| 30/30 [00:01<00:00, 25.52it/s]\n",
      "100%|█████████████████████████████████████████████████████████████| 30/30 [00:02<00:00, 11.59it/s]\n",
      "100%|█████████████████████████████████████████████████████████████| 30/30 [00:16<00:00,  1.81it/s]\n",
      "100%|█████████████████████████████████████████████████████████████| 30/30 [00:38<00:00,  1.29s/it]\n",
      "100%|█████████████████████████████████████████████████████████████| 30/30 [00:43<00:00,  1.44s/it]\n",
      "100%|█████████████████████████████████████████████████████████████| 30/30 [00:46<00:00,  1.55s/it]\n",
      "100%|█████████████████████████████████████████████████████████████| 30/30 [00:52<00:00,  1.74s/it]\n"
     ]
    }
   ],
   "source": [
    "tuning_results = pd.DataFrame([1, 10, 100, 1000, 5000, 7500, 10000, 50000])\n",
    "tuning_results = tuning_results.rename({0: 'coef'}, axis=1)\n",
    "tuning_results = tuning_results.set_index('coef')\n",
    "\n",
    "for chance_param in tuning_results.index:\n",
    "    init_population()\n",
    "    run_experiment(30, networks, chance_param)\n",
    "    con_mse = mean_squared_error(users[f\"con_inf_day\"], users[f\"Conservative_day_infected\"])\n",
    "    \n",
    "    lib_mse = mean_squared_error(users[f\"lib_inf_day\"], users[f\"Liberal_day_infected\"])\n",
    "\n",
    "    con_end_acc = ((users[\"con_inf_day\"] != 31) == users[\"Conservative_infected\"]).mean()\n",
    "    lib_end_acc = ((users[\"lib_inf_day\"] != 31) == users[\"Liberal_infected\"]).mean()\n",
    "    tuning_results.at[chance_param, f'Conservative MSE'] = con_mse\n",
    "    tuning_results.at[chance_param, f'Conservative end state accuracy'] = con_end_acc\n",
    "    tuning_results.at[chance_param, f'Conservative end state precision'] = precision_score(users[f\"con_inf_day\"] != 31, users[f\"Conservative_infected\"].astype(bool))\n",
    "    tuning_results.at[chance_param, f'Conservative end state recall'] = recall_score(users[f\"con_inf_day\"] != 31, users[f\"Conservative_infected\"].astype(bool))\n",
    "    tuning_results.at[chance_param, f'Conservative end state ROC-AUC'] = roc_auc_score(users[f\"con_inf_day\"] != 31, users[f\"Conservative_infected\"].astype(bool))\n",
    "    tuning_results.at[chance_param, f'Liberal MSE'] = lib_mse\n",
    "    tuning_results.at[chance_param, f'Liberal end state accuracy'] = lib_end_acc\n",
    "    tuning_results.at[chance_param, f'Liberal end state precision'] = precision_score(users[f\"lib_inf_day\"] != 31, users[f\"Liberal_infected\"].astype(bool))\n",
    "    tuning_results.at[chance_param, f'Liberal end state recall'] = recall_score(users[f\"lib_inf_day\"] != 31, users[f\"Liberal_infected\"].astype(bool))\n",
    "    tuning_results.at[chance_param, f'Liberal end state ROC-AUC'] = roc_auc_score(users[f\"lib_inf_day\"] != 31, users[f\"Liberal_infected\"].astype(bool))"
   ]
  },
  {
   "cell_type": "code",
   "execution_count": 110,
   "metadata": {},
   "outputs": [],
   "source": [
    "def plot_tuning_result(tuning_results, name):\n",
    "    plt.xlabel(\"Infection coefficient\")\n",
    "    plt.ylabel(name)\n",
    "    plt.plot(tuning_results.index, tuning_results[name])\n",
    "    plt.show()"
   ]
  },
  {
   "cell_type": "code",
   "execution_count": 123,
   "metadata": {},
   "outputs": [
    {
     "data": {
      "text/html": [
       "<style type=\"text/css\">\n",
       "#T_37913_row0_col0, #T_37913_row0_col2, #T_37913_row0_col5, #T_37913_row0_col7, #T_37913_row3_col6, #T_37913_row3_col9, #T_37913_row4_col1, #T_37913_row4_col4, #T_37913_row5_col8, #T_37913_row6_col8, #T_37913_row7_col3, #T_37913_row7_col8 {\n",
       "  background-color: lightgreen;\n",
       "}\n",
       "#T_37913_row0_col1, #T_37913_row0_col3, #T_37913_row0_col4, #T_37913_row0_col6, #T_37913_row0_col8, #T_37913_row0_col9, #T_37913_row3_col5, #T_37913_row4_col0, #T_37913_row5_col7, #T_37913_row6_col7, #T_37913_row7_col2, #T_37913_row7_col7 {\n",
       "  background-color: pink;\n",
       "}\n",
       "</style>\n",
       "<table id=\"T_37913_\">\n",
       "  <thead>\n",
       "    <tr>\n",
       "      <th class=\"blank level0\" >&nbsp;</th>\n",
       "      <th class=\"col_heading level0 col0\" >Conservative MSE</th>\n",
       "      <th class=\"col_heading level0 col1\" >Conservative end state accuracy</th>\n",
       "      <th class=\"col_heading level0 col2\" >Conservative end state precision</th>\n",
       "      <th class=\"col_heading level0 col3\" >Conservative end state recall</th>\n",
       "      <th class=\"col_heading level0 col4\" >Conservative end state ROC-AUC</th>\n",
       "      <th class=\"col_heading level0 col5\" >Liberal MSE</th>\n",
       "      <th class=\"col_heading level0 col6\" >Liberal end state accuracy</th>\n",
       "      <th class=\"col_heading level0 col7\" >Liberal end state precision</th>\n",
       "      <th class=\"col_heading level0 col8\" >Liberal end state recall</th>\n",
       "      <th class=\"col_heading level0 col9\" >Liberal end state ROC-AUC</th>\n",
       "    </tr>\n",
       "    <tr>\n",
       "      <th class=\"index_name level0\" >coef</th>\n",
       "      <th class=\"blank col0\" >&nbsp;</th>\n",
       "      <th class=\"blank col1\" >&nbsp;</th>\n",
       "      <th class=\"blank col2\" >&nbsp;</th>\n",
       "      <th class=\"blank col3\" >&nbsp;</th>\n",
       "      <th class=\"blank col4\" >&nbsp;</th>\n",
       "      <th class=\"blank col5\" >&nbsp;</th>\n",
       "      <th class=\"blank col6\" >&nbsp;</th>\n",
       "      <th class=\"blank col7\" >&nbsp;</th>\n",
       "      <th class=\"blank col8\" >&nbsp;</th>\n",
       "      <th class=\"blank col9\" >&nbsp;</th>\n",
       "    </tr>\n",
       "  </thead>\n",
       "  <tbody>\n",
       "    <tr>\n",
       "      <th id=\"T_37913_level0_row0\" class=\"row_heading level0 row0\" >1</th>\n",
       "      <td id=\"T_37913_row0_col0\" class=\"data row0 col0\" >191.837271</td>\n",
       "      <td id=\"T_37913_row0_col1\" class=\"data row0 col1\" >0.526403</td>\n",
       "      <td id=\"T_37913_row0_col2\" class=\"data row0 col2\" >0.998190</td>\n",
       "      <td id=\"T_37913_row0_col3\" class=\"data row0 col3\" >0.014444</td>\n",
       "      <td id=\"T_37913_row0_col4\" class=\"data row0 col4\" >0.507210</td>\n",
       "      <td id=\"T_37913_row0_col5\" class=\"data row0 col5\" >232.961333</td>\n",
       "      <td id=\"T_37913_row0_col6\" class=\"data row0 col6\" >0.433526</td>\n",
       "      <td id=\"T_37913_row0_col7\" class=\"data row0 col7\" >1.000000</td>\n",
       "      <td id=\"T_37913_row0_col8\" class=\"data row0 col8\" >0.001757</td>\n",
       "      <td id=\"T_37913_row0_col9\" class=\"data row0 col9\" >0.500878</td>\n",
       "    </tr>\n",
       "    <tr>\n",
       "      <th id=\"T_37913_level0_row1\" class=\"row_heading level0 row1\" >10</th>\n",
       "      <td id=\"T_37913_row1_col0\" class=\"data row1 col0\" >191.664719</td>\n",
       "      <td id=\"T_37913_row1_col1\" class=\"data row1 col1\" >0.526858</td>\n",
       "      <td id=\"T_37913_row1_col2\" class=\"data row1 col2\" >0.981609</td>\n",
       "      <td id=\"T_37913_row1_col3\" class=\"data row1 col3\" >0.015660</td>\n",
       "      <td id=\"T_37913_row1_col4\" class=\"data row1 col4\" >0.507694</td>\n",
       "      <td id=\"T_37913_row1_col5\" class=\"data row1 col5\" >232.069056</td>\n",
       "      <td id=\"T_37913_row1_col6\" class=\"data row1 col6\" >0.435859</td>\n",
       "      <td id=\"T_37913_row1_col7\" class=\"data row1 col7\" >0.895871</td>\n",
       "      <td id=\"T_37913_row1_col8\" class=\"data row1 col8\" >0.006641</td>\n",
       "      <td id=\"T_37913_row1_col9\" class=\"data row1 col9\" >0.502814</td>\n",
       "    </tr>\n",
       "    <tr>\n",
       "      <th id=\"T_37913_level0_row2\" class=\"row_heading level0 row2\" >100</th>\n",
       "      <td id=\"T_37913_row2_col0\" class=\"data row2 col0\" >189.859071</td>\n",
       "      <td id=\"T_37913_row2_col1\" class=\"data row2 col1\" >0.531669</td>\n",
       "      <td id=\"T_37913_row2_col2\" class=\"data row2 col2\" >0.892927</td>\n",
       "      <td id=\"T_37913_row2_col3\" class=\"data row2 col3\" >0.028836</td>\n",
       "      <td id=\"T_37913_row2_col4\" class=\"data row2 col4\" >0.512819</td>\n",
       "      <td id=\"T_37913_row2_col5\" class=\"data row2 col5\" >219.663719</td>\n",
       "      <td id=\"T_37913_row2_col6\" class=\"data row2 col6\" >0.469637</td>\n",
       "      <td id=\"T_37913_row2_col7\" class=\"data row2 col7\" >0.841299</td>\n",
       "      <td id=\"T_37913_row2_col8\" class=\"data row2 col8\" >0.080596</td>\n",
       "      <td id=\"T_37913_row2_col9\" class=\"data row2 col9\" >0.530325</td>\n",
       "    </tr>\n",
       "    <tr>\n",
       "      <th id=\"T_37913_level0_row3\" class=\"row_heading level0 row3\" >1000</th>\n",
       "      <td id=\"T_37913_row3_col0\" class=\"data row3 col0\" >171.895172</td>\n",
       "      <td id=\"T_37913_row3_col1\" class=\"data row3 col1\" >0.588188</td>\n",
       "      <td id=\"T_37913_row3_col2\" class=\"data row3 col2\" >0.778408</td>\n",
       "      <td id=\"T_37913_row3_col3\" class=\"data row3 col3\" >0.199905</td>\n",
       "      <td id=\"T_37913_row3_col4\" class=\"data row3 col4\" >0.573632</td>\n",
       "      <td id=\"T_37913_row3_col5\" class=\"data row3 col5\" >178.489204</td>\n",
       "      <td id=\"T_37913_row3_col6\" class=\"data row3 col6\" >0.623101</td>\n",
       "      <td id=\"T_37913_row3_col7\" class=\"data row3 col7\" >0.738536</td>\n",
       "      <td id=\"T_37913_row3_col8\" class=\"data row3 col8\" >0.519882</td>\n",
       "      <td id=\"T_37913_row3_col9\" class=\"data row3 col9\" >0.639203</td>\n",
       "    </tr>\n",
       "    <tr>\n",
       "      <th id=\"T_37913_level0_row4\" class=\"row_heading level0 row4\" >5000</th>\n",
       "      <td id=\"T_37913_row4_col0\" class=\"data row4 col0\" >157.210449</td>\n",
       "      <td id=\"T_37913_row4_col1\" class=\"data row4 col1\" >0.651243</td>\n",
       "      <td id=\"T_37913_row4_col2\" class=\"data row4 col2\" >0.661623</td>\n",
       "      <td id=\"T_37913_row4_col3\" class=\"data row4 col3\" >0.561269</td>\n",
       "      <td id=\"T_37913_row4_col4\" class=\"data row4 col4\" >0.647870</td>\n",
       "      <td id=\"T_37913_row4_col5\" class=\"data row4 col5\" >183.731056</td>\n",
       "      <td id=\"T_37913_row4_col6\" class=\"data row4 col6\" >0.618834</td>\n",
       "      <td id=\"T_37913_row4_col7\" class=\"data row4 col7\" >0.652887</td>\n",
       "      <td id=\"T_37913_row4_col8\" class=\"data row4 col8\" >0.701003</td>\n",
       "      <td id=\"T_37913_row4_col9\" class=\"data row4 col9\" >0.606016</td>\n",
       "    </tr>\n",
       "    <tr>\n",
       "      <th id=\"T_37913_level0_row5\" class=\"row_heading level0 row5\" >7500</th>\n",
       "      <td id=\"T_37913_row5_col0\" class=\"data row5 col0\" >160.280444</td>\n",
       "      <td id=\"T_37913_row5_col1\" class=\"data row5 col1\" >0.642504</td>\n",
       "      <td id=\"T_37913_row5_col2\" class=\"data row5 col2\" >0.625612</td>\n",
       "      <td id=\"T_37913_row5_col3\" class=\"data row5 col3\" >0.637582</td>\n",
       "      <td id=\"T_37913_row5_col4\" class=\"data row5 col4\" >0.642320</td>\n",
       "      <td id=\"T_37913_row5_col5\" class=\"data row5 col5\" >184.731283</td>\n",
       "      <td id=\"T_37913_row5_col6\" class=\"data row5 col6\" >0.616115</td>\n",
       "      <td id=\"T_37913_row5_col7\" class=\"data row5 col7\" >0.647320</td>\n",
       "      <td id=\"T_37913_row5_col8\" class=\"data row5 col8\" >0.710763</td>\n",
       "      <td id=\"T_37913_row5_col9\" class=\"data row5 col9\" >0.601351</td>\n",
       "    </tr>\n",
       "    <tr>\n",
       "      <th id=\"T_37913_level0_row6\" class=\"row_heading level0 row6\" >10000</th>\n",
       "      <td id=\"T_37913_row6_col0\" class=\"data row6 col0\" >163.704715</td>\n",
       "      <td id=\"T_37913_row6_col1\" class=\"data row6 col1\" >0.631414</td>\n",
       "      <td id=\"T_37913_row6_col2\" class=\"data row6 col2\" >0.604078</td>\n",
       "      <td id=\"T_37913_row6_col3\" class=\"data row6 col3\" >0.676043</td>\n",
       "      <td id=\"T_37913_row6_col4\" class=\"data row6 col4\" >0.633087</td>\n",
       "      <td id=\"T_37913_row6_col5\" class=\"data row6 col5\" >184.731283</td>\n",
       "      <td id=\"T_37913_row6_col6\" class=\"data row6 col6\" >0.616115</td>\n",
       "      <td id=\"T_37913_row6_col7\" class=\"data row6 col7\" >0.647320</td>\n",
       "      <td id=\"T_37913_row6_col8\" class=\"data row6 col8\" >0.710763</td>\n",
       "      <td id=\"T_37913_row6_col9\" class=\"data row6 col9\" >0.601351</td>\n",
       "    </tr>\n",
       "    <tr>\n",
       "      <th id=\"T_37913_level0_row7\" class=\"row_heading level0 row7\" >50000</th>\n",
       "      <td id=\"T_37913_row7_col0\" class=\"data row7 col0\" >172.866273</td>\n",
       "      <td id=\"T_37913_row7_col1\" class=\"data row7 col1\" >0.599615</td>\n",
       "      <td id=\"T_37913_row7_col2\" class=\"data row7 col2\" >0.563644</td>\n",
       "      <td id=\"T_37913_row7_col3\" class=\"data row7 col3\" >0.738504</td>\n",
       "      <td id=\"T_37913_row7_col4\" class=\"data row7 col4\" >0.604822</td>\n",
       "      <td id=\"T_37913_row7_col5\" class=\"data row7 col5\" >184.731283</td>\n",
       "      <td id=\"T_37913_row7_col6\" class=\"data row7 col6\" >0.616115</td>\n",
       "      <td id=\"T_37913_row7_col7\" class=\"data row7 col7\" >0.647320</td>\n",
       "      <td id=\"T_37913_row7_col8\" class=\"data row7 col8\" >0.710763</td>\n",
       "      <td id=\"T_37913_row7_col9\" class=\"data row7 col9\" >0.601351</td>\n",
       "    </tr>\n",
       "  </tbody>\n",
       "</table>\n"
      ],
      "text/plain": [
       "<pandas.io.formats.style.Styler at 0x1f48f2dba00>"
      ]
     },
     "execution_count": 123,
     "metadata": {},
     "output_type": "execute_result"
    }
   ],
   "source": [
    "tuning_results.style.highlight_max(color = 'lightgreen', axis = 0).highlight_min(color = 'pink', axis = 0)"
   ]
  },
  {
   "cell_type": "code",
   "execution_count": 114,
   "metadata": {},
   "outputs": [
    {
     "data": {
      "image/png": "[encoded data removed]",
      "text/plain": [
       "<Figure size 432x288 with 1 Axes>"
      ]
     },
     "metadata": {
      "needs_background": "light"
     },
     "output_type": "display_data"
    },
    {
     "data": {
      "image/png": "[encoded data removed]",
      "text/plain": [
       "<Figure size 432x288 with 1 Axes>"
      ]
     },
     "metadata": {
      "needs_background": "light"
     },
     "output_type": "display_data"
    },
    {
     "data": {
      "image/png": "[encoded data removed]",
      "text/plain": [
       "<Figure size 432x288 with 1 Axes>"
      ]
     },
     "metadata": {
      "needs_background": "light"
     },
     "output_type": "display_data"
    },
    {
     "data": {
      "image/png": "[encoded data removed]",
      "text/plain": [
       "<Figure size 432x288 with 1 Axes>"
      ]
     },
     "metadata": {
      "needs_background": "light"
     },
     "output_type": "display_data"
    },
    {
     "data": {
      "image/png": "[encoded data removed]",
      "text/plain": [
       "<Figure size 432x288 with 1 Axes>"
      ]
     },
     "metadata": {
      "needs_background": "light"
     },
     "output_type": "display_data"
    },
    {
     "data": {
      "image/png": "[encoded data removed]",
      "text/plain": [
       "<Figure size 432x288 with 1 Axes>"
      ]
     },
     "metadata": {
      "needs_background": "light"
     },
     "output_type": "display_data"
    }
   ],
   "source": [
    "plot_tuning_result(tuning_results, f'Conservative end state precision')\n",
    "plot_tuning_result(tuning_results, f'Conservative end state recall')\n",
    "plot_tuning_result(tuning_results, f'Conservative end state ROC-AUC')\n",
    "plot_tuning_result(tuning_results, f'Liberal end state precision')\n",
    "plot_tuning_result(tuning_results, f'Liberal end state recall')\n",
    "plot_tuning_result(tuning_results, f'Liberal end state ROC-AUC')"
   ]
  },
  {
   "cell_type": "code",
   "execution_count": 74,
   "metadata": {},
   "outputs": [],
   "source": [
    "def plot_SI(users):\n",
    "    plt.figure()\n",
    "    plt.plot([x for x in range(days-1)], [len([y[0] for y in networks[x].nodes.data() if y[1]['status'] == 'infected']) for x in range(days-1)], label='infected')\n",
    "    plt.legend()\n",
    "    plt.grid()\n",
    "    plt.title(\"Number of Infections vs Day\")\n",
    "    plt.xlabel(\"Day\")\n",
    "    plt.ylabel(\"Number of infections\")\n",
    "    plt.show()    \n",
    "    return "
   ]
  },
  {
   "cell_type": "code",
   "execution_count": 99,
   "metadata": {},
   "outputs": [],
   "source": [
    "def infected_on_day(users, day, label, short_l, true_count=True):\n",
    "    if true_count:\n",
    "        return len(users[users[f'{short_l}_inf_day'] <= day].index)\n",
    "    else:\n",
    "        return len(users[users[f'{label}_day_infected'] <= day].index)\n",
    "\n",
    "def infected_count(users, days, lib=True):\n",
    "    label = 'Liberal' if lib else 'Conservative'\n",
    "    short_l = 'lib' if lib else 'con'\n",
    "    return (\n",
    "        [infected_on_day(users, day, label, short_l) for day in days],\n",
    "        [infected_on_day(users, day, label, short_l, true_count=False) for day in days],\n",
    "    )\n",
    "    "
   ]
  },
  {
   "cell_type": "code",
   "execution_count": 106,
   "metadata": {},
   "outputs": [],
   "source": [
    "def plot_SI(users, lib=True):\n",
    "    label = 'Liberal' if lib else 'Conservative'\n",
    "    days = list(range(1, 31))\n",
    "    true, pred = infected_count(users, days, lib)\n",
    "    plt.plot(days, true, '--', label='true')\n",
    "    plt.plot(days, pred, label='simulated')\n",
    "    plt.legend()\n",
    "    plt.grid()\n",
    "    plt.title(f\"{label} Infection Simulation\")\n",
    "    plt.xlabel(\"Day\")\n",
    "    plt.ylabel(\"Number of infections\")\n",
    "    plt.show()    \n",
    "    return "
   ]
  },
  {
   "cell_type": "code",
   "execution_count": 109,
   "metadata": {},
   "outputs": [
    {
     "data": {
      "text/plain": [
       "397213"
      ]
     },
     "execution_count": 109,
     "metadata": {},
     "output_type": "execute_result"
    }
   ],
   "source": [
    "len(users.index)"
   ]
  },
  {
   "cell_type": "code",
   "execution_count": null,
   "metadata": {},
   "outputs": [],
   "source": []
  }
 ],
 "metadata": {
  "interpreter": {
   "hash": "aee8b7b246df8f9039afb4144a1f6fd8d2ca17a180786b69acc140d282b71a49"
  },
  "kernelspec": {
   "display_name": "Python 3 (ipykernel)",
   "language": "python",
   "name": "python3"
  },
  "language_info": {
   "codemirror_mode": {
    "name": "ipython",
    "version": 3
   },
   "file_extension": ".py",
   "mimetype": "text/x-python",
   "name": "python",
   "nbconvert_exporter": "python",
   "pygments_lexer": "ipython3",
   "version": "3.9.7"
  }
 },
 "nbformat": 4,
 "nbformat_minor": 4
}
